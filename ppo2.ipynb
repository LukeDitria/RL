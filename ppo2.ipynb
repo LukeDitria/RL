{
 "cells": [
  {
   "cell_type": "code",
   "execution_count": 1,
   "metadata": {},
   "outputs": [],
   "source": [
    "import math\n",
    "import random\n",
    "\n",
    "import gym\n",
    "import numpy as np\n",
    "\n",
    "import torch\n",
    "import torch.nn as nn\n",
    "import torch.optim as optim\n",
    "import torch.nn.functional as F\n",
    "from torch.distributions import Normal"
   ]
  },
  {
   "cell_type": "code",
   "execution_count": 2,
   "metadata": {},
   "outputs": [],
   "source": [
    "from IPython.display import clear_output\n",
    "import matplotlib.pyplot as plt\n",
    "%matplotlib inline"
   ]
  },
  {
   "cell_type": "markdown",
   "metadata": {},
   "source": [
    "<h2>Use CUDA</h2>"
   ]
  },
  {
   "cell_type": "code",
   "execution_count": 3,
   "metadata": {},
   "outputs": [],
   "source": [
    "use_cuda = torch.cuda.is_available()\n",
    "device   = torch.device(\"cuda\" if use_cuda else \"cpu\")"
   ]
  },
  {
   "cell_type": "markdown",
   "metadata": {},
   "source": [
    "<h2>Create Environments</h2>"
   ]
  },
  {
   "cell_type": "code",
   "execution_count": 4,
   "metadata": {},
   "outputs": [
    {
     "name": "stderr",
     "output_type": "stream",
     "text": [
      "Process Process-1:\n",
      "Process Process-2:\n",
      "Traceback (most recent call last):\n",
      "Traceback (most recent call last):\n",
      "  File \"/usr/lib/python3.5/multiprocessing/process.py\", line 249, in _bootstrap\n",
      "    self.run()\n",
      "  File \"/usr/lib/python3.5/multiprocessing/process.py\", line 249, in _bootstrap\n",
      "    self.run()\n",
      "  File \"/usr/lib/python3.5/multiprocessing/process.py\", line 93, in run\n",
      "    self._target(*self._args, **self._kwargs)\n",
      "  File \"/usr/lib/python3.5/multiprocessing/process.py\", line 93, in run\n",
      "    self._target(*self._args, **self._kwargs)\n",
      "  File \"/home/luke/Documents/RL/common/multiprocessing_env.py\", line 11, in worker\n",
      "    cmd, data = remote.recv()\n",
      "  File \"/home/luke/Documents/RL/common/multiprocessing_env.py\", line 11, in worker\n",
      "    cmd, data = remote.recv()\n",
      "  File \"/usr/lib/python3.5/multiprocessing/connection.py\", line 250, in recv\n",
      "    buf = self._recv_bytes()\n",
      "  File \"/usr/lib/python3.5/multiprocessing/connection.py\", line 250, in recv\n",
      "    buf = self._recv_bytes()\n",
      "  File \"/usr/lib/python3.5/multiprocessing/connection.py\", line 407, in _recv_bytes\n",
      "    buf = self._recv(4)\n",
      "  File \"/usr/lib/python3.5/multiprocessing/connection.py\", line 407, in _recv_bytes\n",
      "    buf = self._recv(4)\n",
      "  File \"/usr/lib/python3.5/multiprocessing/connection.py\", line 379, in _recv\n",
      "    chunk = read(handle, remaining)\n",
      "KeyboardInterrupt\n",
      "  File \"/usr/lib/python3.5/multiprocessing/connection.py\", line 379, in _recv\n",
      "    chunk = read(handle, remaining)\n",
      "KeyboardInterrupt\n"
     ]
    }
   ],
   "source": [
    "from common.multiprocessing_env import SubprocVecEnv\n",
    "\n",
    "num_envs = 2\n",
    "env_name = \"SpaceInvaders-v4\"\n",
    "\n",
    "def make_env():\n",
    "    def _thunk():\n",
    "        env = gym.make(env_name)\n",
    "        return env\n",
    "\n",
    "    return _thunk\n",
    "\n",
    "envs = [make_env() for i in range(num_envs)]\n",
    "envs = SubprocVecEnv(envs)\n",
    "\n",
    "env = gym.make(env_name)\n",
    "\n",
    "frame_size= env.observation_space.shape\n",
    "#num_outputs = envs.action_space.shape[0]\n",
    "num_inputs  = frame_size[2]\n",
    "num_outputs = 6\n",
    "\n",
    "\n"
   ]
  },
  {
   "cell_type": "code",
   "execution_count": 6,
   "metadata": {},
   "outputs": [
    {
     "data": {
      "text/plain": [
       "(210, 160, 3)"
      ]
     },
     "execution_count": 6,
     "metadata": {},
     "output_type": "execute_result"
    }
   ],
   "source": [
    "frame_size"
   ]
  },
  {
   "cell_type": "markdown",
   "metadata": {},
   "source": [
    "<h2>Neural Network</h2>"
   ]
  },
  {
   "cell_type": "code",
   "execution_count": 7,
   "metadata": {},
   "outputs": [],
   "source": [
    "def init_weights(m):\n",
    "    if isinstance(m, nn.Linear):\n",
    "        nn.init.normal_(m.weight, mean=0., std=0.1)\n",
    "        nn.init.constant_(m.bias, 0.1)\n",
    "        \n",
    "\n",
    "class PPO(nn.Module):\n",
    "    def __init__(self, num_inputs, num_outputs, std=0.0):\n",
    "        super(PPO, self).__init__()\n",
    "        \n",
    "        self.conv1 = nn.Conv2d(3, 16, kernel_size=5, stride=3)\n",
    "        self.bn1 = nn.BatchNorm2d(16)\n",
    "        self.conv2 = nn.Conv2d(16, 32, kernel_size=5, stride=2)\n",
    "        self.bn2 = nn.BatchNorm2d(32)\n",
    "        self.conv3 = nn.Conv2d(32, 32, kernel_size=5, stride=2)\n",
    "        self.bn3 = nn.BatchNorm2d(32)\n",
    "        self.conv4 = nn.Conv2d(32, 32, kernel_size=5, stride=1)\n",
    "        self.bn4 = nn.BatchNorm2d(32)\n",
    "        self.head = nn.Linear(2112, num_outputs)\n",
    "\n",
    "        self.apply(init_weights)\n",
    "        \n",
    "    def forward(self, x):\n",
    "        x = F.relu(self.bn1(self.conv1(x)))\n",
    "        x = F.relu(self.bn2(self.conv2(x)))\n",
    "        x = F.relu(self.bn3(self.conv3(x)))\n",
    "        x = F.relu(self.bn4(self.conv4(x)))\n",
    "        x = self.head(x.view(x.size(0), -1))\n",
    "        return x"
   ]
  },
  {
   "cell_type": "code",
   "execution_count": 8,
   "metadata": {},
   "outputs": [],
   "source": [
    "\n",
    "#Hyper params:\n",
    "hidden_size      = 256\n",
    "lr               = 3e-4\n",
    "num_steps        = 20\n",
    "mini_batch_size  = 5\n",
    "ppo_epochs       = 4\n",
    "threshold_reward = -200\n",
    "\n",
    "Actor = PPO(num_inputs, num_outputs).to(device)\n",
    "Critic = PPO(num_inputs, 1).to(device)\n",
    "\n",
    "optimizer = optim.Adam(Actor.parameters(), lr=lr)"
   ]
  },
  {
   "cell_type": "code",
   "execution_count": 21,
   "metadata": {},
   "outputs": [
    {
     "data": {
      "text/plain": [
       "torch.Size([2, 3, 210, 160])"
      ]
     },
     "execution_count": 21,
     "metadata": {},
     "output_type": "execute_result"
    }
   ],
   "source": [
    "state = envs.reset().transpose((0,3, 1, 2))\n",
    "state = torch.FloatTensor(state).to(device)\n",
    "state.size()"
   ]
  },
  {
   "cell_type": "code",
   "execution_count": null,
   "metadata": {},
   "outputs": [],
   "source": []
  },
  {
   "cell_type": "code",
   "execution_count": 16,
   "metadata": {},
   "outputs": [],
   "source": [
    "log_probs = []\n",
    "values    = []\n",
    "states    = []\n",
    "actions   = []\n",
    "masks     = []\n",
    "entropy = 0\n",
    "done = 0\n",
    "rewards = 0 \n",
    "\n",
    "#while not done:\n",
    "    mu = Actor(state)\n",
    "    value = Critic(state)\n",
    "    std = 0 \n",
    "    log_std = nn.Parameter(torch.ones(1, num_outputs) * std)\n",
    "    std   = log_std.exp().expand_as(mu)\n",
    "    dist  = Normal(mu, std)\n",
    "\n",
    "    action = dist.sample()\n",
    "    action_val, action_indx = action.max(1)\n",
    "    next_state, reward, done, _ = envs.step(action_indx.cpu().numpy())\n",
    "    rewards += reward\n",
    "    log_prob = dist.log_prob(action)\n",
    "    entropy += dist.entropy().mean()\n",
    "    \n",
    "    \n",
    "    env.render()"
   ]
  },
  {
   "cell_type": "code",
   "execution_count": 24,
   "metadata": {},
   "outputs": [
    {
     "data": {
      "text/plain": [
       "2"
      ]
     },
     "execution_count": 24,
     "metadata": {},
     "output_type": "execute_result"
    }
   ],
   "source": [
    "envs.action_space.sample()"
   ]
  },
  {
   "cell_type": "code",
   "execution_count": 15,
   "metadata": {},
   "outputs": [
    {
     "data": {
      "text/plain": [
       "array([[[ 0,  0,  0],\n",
       "        [ 0,  0,  0],\n",
       "        [ 0,  0,  0],\n",
       "        ...,\n",
       "        [ 0,  0,  0],\n",
       "        [ 0,  0,  0],\n",
       "        [ 0,  0,  0]],\n",
       "\n",
       "       [[ 0,  0,  0],\n",
       "        [ 0,  0,  0],\n",
       "        [ 0,  0,  0],\n",
       "        ...,\n",
       "        [ 0,  0,  0],\n",
       "        [ 0,  0,  0],\n",
       "        [ 0,  0,  0]],\n",
       "\n",
       "       [[ 0,  0,  0],\n",
       "        [ 0,  0,  0],\n",
       "        [ 0,  0,  0],\n",
       "        ...,\n",
       "        [ 0,  0,  0],\n",
       "        [ 0,  0,  0],\n",
       "        [ 0,  0,  0]],\n",
       "\n",
       "       ...,\n",
       "\n",
       "       [[80, 89, 22],\n",
       "        [80, 89, 22],\n",
       "        [80, 89, 22],\n",
       "        ...,\n",
       "        [80, 89, 22],\n",
       "        [80, 89, 22],\n",
       "        [80, 89, 22]],\n",
       "\n",
       "       [[80, 89, 22],\n",
       "        [80, 89, 22],\n",
       "        [80, 89, 22],\n",
       "        ...,\n",
       "        [80, 89, 22],\n",
       "        [80, 89, 22],\n",
       "        [80, 89, 22]],\n",
       "\n",
       "       [[80, 89, 22],\n",
       "        [80, 89, 22],\n",
       "        [80, 89, 22],\n",
       "        ...,\n",
       "        [80, 89, 22],\n",
       "        [80, 89, 22],\n",
       "        [80, 89, 22]]], dtype=uint8)"
      ]
     },
     "execution_count": 15,
     "metadata": {},
     "output_type": "execute_result"
    }
   ],
   "source": [
    "env.reset()"
   ]
  },
  {
   "cell_type": "code",
   "execution_count": 11,
   "metadata": {},
   "outputs": [
    {
     "data": {
      "text/plain": [
       "(array([[[[ 0,  0,  0],\n",
       "          [ 0,  0,  0],\n",
       "          [ 0,  0,  0],\n",
       "          ...,\n",
       "          [ 0,  0,  0],\n",
       "          [ 0,  0,  0],\n",
       "          [ 0,  0,  0]],\n",
       " \n",
       "         [[ 0,  0,  0],\n",
       "          [ 0,  0,  0],\n",
       "          [ 0,  0,  0],\n",
       "          ...,\n",
       "          [ 0,  0,  0],\n",
       "          [ 0,  0,  0],\n",
       "          [ 0,  0,  0]],\n",
       " \n",
       "         [[ 0,  0,  0],\n",
       "          [ 0,  0,  0],\n",
       "          [ 0,  0,  0],\n",
       "          ...,\n",
       "          [ 0,  0,  0],\n",
       "          [ 0,  0,  0],\n",
       "          [ 0,  0,  0]],\n",
       " \n",
       "         ...,\n",
       " \n",
       "         [[80, 89, 22],\n",
       "          [80, 89, 22],\n",
       "          [80, 89, 22],\n",
       "          ...,\n",
       "          [80, 89, 22],\n",
       "          [80, 89, 22],\n",
       "          [80, 89, 22]],\n",
       " \n",
       "         [[80, 89, 22],\n",
       "          [80, 89, 22],\n",
       "          [80, 89, 22],\n",
       "          ...,\n",
       "          [80, 89, 22],\n",
       "          [80, 89, 22],\n",
       "          [80, 89, 22]],\n",
       " \n",
       "         [[80, 89, 22],\n",
       "          [80, 89, 22],\n",
       "          [80, 89, 22],\n",
       "          ...,\n",
       "          [80, 89, 22],\n",
       "          [80, 89, 22],\n",
       "          [80, 89, 22]]],\n",
       " \n",
       " \n",
       "        [[[ 0,  0,  0],\n",
       "          [ 0,  0,  0],\n",
       "          [ 0,  0,  0],\n",
       "          ...,\n",
       "          [ 0,  0,  0],\n",
       "          [ 0,  0,  0],\n",
       "          [ 0,  0,  0]],\n",
       " \n",
       "         [[ 0,  0,  0],\n",
       "          [ 0,  0,  0],\n",
       "          [ 0,  0,  0],\n",
       "          ...,\n",
       "          [ 0,  0,  0],\n",
       "          [ 0,  0,  0],\n",
       "          [ 0,  0,  0]],\n",
       " \n",
       "         [[ 0,  0,  0],\n",
       "          [ 0,  0,  0],\n",
       "          [ 0,  0,  0],\n",
       "          ...,\n",
       "          [ 0,  0,  0],\n",
       "          [ 0,  0,  0],\n",
       "          [ 0,  0,  0]],\n",
       " \n",
       "         ...,\n",
       " \n",
       "         [[80, 89, 22],\n",
       "          [80, 89, 22],\n",
       "          [80, 89, 22],\n",
       "          ...,\n",
       "          [80, 89, 22],\n",
       "          [80, 89, 22],\n",
       "          [80, 89, 22]],\n",
       " \n",
       "         [[80, 89, 22],\n",
       "          [80, 89, 22],\n",
       "          [80, 89, 22],\n",
       "          ...,\n",
       "          [80, 89, 22],\n",
       "          [80, 89, 22],\n",
       "          [80, 89, 22]],\n",
       " \n",
       "         [[80, 89, 22],\n",
       "          [80, 89, 22],\n",
       "          [80, 89, 22],\n",
       "          ...,\n",
       "          [80, 89, 22],\n",
       "          [80, 89, 22],\n",
       "          [80, 89, 22]]]], dtype=uint8),\n",
       " array([0., 0.]),\n",
       " array([False, False]),\n",
       " ({'ale.lives': 3}, {'ale.lives': 3}))"
      ]
     },
     "execution_count": 11,
     "metadata": {},
     "output_type": "execute_result"
    }
   ],
   "source": [
    "envs.reset()\n",
    "action = []\n",
    "for _ in range(num_envs):\n",
    "    action.append(envs.action_space.sample())\n",
    "envs.step(action)"
   ]
  },
  {
   "cell_type": "code",
   "execution_count": 6,
   "metadata": {},
   "outputs": [],
   "source": []
  },
  {
   "cell_type": "code",
   "execution_count": 7,
   "metadata": {},
   "outputs": [
    {
     "data": {
      "text/plain": [
       "[4, 5]"
      ]
     },
     "execution_count": 7,
     "metadata": {},
     "output_type": "execute_result"
    }
   ],
   "source": [
    "action"
   ]
  },
  {
   "cell_type": "code",
   "execution_count": 8,
   "metadata": {},
   "outputs": [
    {
     "data": {
      "text/plain": [
       "(array([[[[ 0,  0,  0],\n",
       "          [ 0,  0,  0],\n",
       "          [ 0,  0,  0],\n",
       "          ...,\n",
       "          [ 0,  0,  0],\n",
       "          [ 0,  0,  0],\n",
       "          [ 0,  0,  0]],\n",
       " \n",
       "         [[ 0,  0,  0],\n",
       "          [ 0,  0,  0],\n",
       "          [ 0,  0,  0],\n",
       "          ...,\n",
       "          [ 0,  0,  0],\n",
       "          [ 0,  0,  0],\n",
       "          [ 0,  0,  0]],\n",
       " \n",
       "         [[ 0,  0,  0],\n",
       "          [ 0,  0,  0],\n",
       "          [ 0,  0,  0],\n",
       "          ...,\n",
       "          [ 0,  0,  0],\n",
       "          [ 0,  0,  0],\n",
       "          [ 0,  0,  0]],\n",
       " \n",
       "         ...,\n",
       " \n",
       "         [[80, 89, 22],\n",
       "          [80, 89, 22],\n",
       "          [80, 89, 22],\n",
       "          ...,\n",
       "          [80, 89, 22],\n",
       "          [80, 89, 22],\n",
       "          [80, 89, 22]],\n",
       " \n",
       "         [[80, 89, 22],\n",
       "          [80, 89, 22],\n",
       "          [80, 89, 22],\n",
       "          ...,\n",
       "          [80, 89, 22],\n",
       "          [80, 89, 22],\n",
       "          [80, 89, 22]],\n",
       " \n",
       "         [[80, 89, 22],\n",
       "          [80, 89, 22],\n",
       "          [80, 89, 22],\n",
       "          ...,\n",
       "          [80, 89, 22],\n",
       "          [80, 89, 22],\n",
       "          [80, 89, 22]]],\n",
       " \n",
       " \n",
       "        [[[ 0,  0,  0],\n",
       "          [ 0,  0,  0],\n",
       "          [ 0,  0,  0],\n",
       "          ...,\n",
       "          [ 0,  0,  0],\n",
       "          [ 0,  0,  0],\n",
       "          [ 0,  0,  0]],\n",
       " \n",
       "         [[ 0,  0,  0],\n",
       "          [ 0,  0,  0],\n",
       "          [ 0,  0,  0],\n",
       "          ...,\n",
       "          [ 0,  0,  0],\n",
       "          [ 0,  0,  0],\n",
       "          [ 0,  0,  0]],\n",
       " \n",
       "         [[ 0,  0,  0],\n",
       "          [ 0,  0,  0],\n",
       "          [ 0,  0,  0],\n",
       "          ...,\n",
       "          [ 0,  0,  0],\n",
       "          [ 0,  0,  0],\n",
       "          [ 0,  0,  0]],\n",
       " \n",
       "         ...,\n",
       " \n",
       "         [[80, 89, 22],\n",
       "          [80, 89, 22],\n",
       "          [80, 89, 22],\n",
       "          ...,\n",
       "          [80, 89, 22],\n",
       "          [80, 89, 22],\n",
       "          [80, 89, 22]],\n",
       " \n",
       "         [[80, 89, 22],\n",
       "          [80, 89, 22],\n",
       "          [80, 89, 22],\n",
       "          ...,\n",
       "          [80, 89, 22],\n",
       "          [80, 89, 22],\n",
       "          [80, 89, 22]],\n",
       " \n",
       "         [[80, 89, 22],\n",
       "          [80, 89, 22],\n",
       "          [80, 89, 22],\n",
       "          ...,\n",
       "          [80, 89, 22],\n",
       "          [80, 89, 22],\n",
       "          [80, 89, 22]]]], dtype=uint8),\n",
       " array([0., 0.]),\n",
       " array([False, False]),\n",
       " ({'ale.lives': 3}, {'ale.lives': 3}))"
      ]
     },
     "execution_count": 8,
     "metadata": {},
     "output_type": "execute_result"
    }
   ],
   "source": [
    "envs.step(action)"
   ]
  },
  {
   "cell_type": "code",
   "execution_count": null,
   "metadata": {},
   "outputs": [],
   "source": []
  }
 ],
 "metadata": {
  "kernelspec": {
   "display_name": "Python 3",
   "language": "python",
   "name": "python3"
  },
  "language_info": {
   "codemirror_mode": {
    "name": "ipython",
    "version": 3
   },
   "file_extension": ".py",
   "mimetype": "text/x-python",
   "name": "python",
   "nbconvert_exporter": "python",
   "pygments_lexer": "ipython3",
   "version": "3.5.2"
  }
 },
 "nbformat": 4,
 "nbformat_minor": 2
}
